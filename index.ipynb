{
 "cells": [
  {
   "cell_type": "code",
   "execution_count": 1,
   "metadata": {},
   "outputs": [
    {
     "name": "stdout",
     "output_type": "stream",
     "text": [
      "#1 True\n",
      "#2 True\n",
      "#3 Milk, Video\n",
      "#4 Milk, Fruit, Video\n"
     ]
    }
   ],
   "source": [
    "from models.item import Item\n",
    "from models.transaction import Transaction\n",
    "from utils.utils import Utils\n",
    "from algorithms.wpfiApriori  import wPFIApriori\n",
    "milk = Item(\"Milk\", 0.4)\n",
    "fruit = Item(\"Fruit\", 0.9)\n",
    "video = Item(\"Video\", 0.6)\n",
    "\n",
    "\n",
    "def list_helper():\n",
    "    # 1. Test is_list_contained -> Passed\n",
    "    larger = [milk, fruit, video]\n",
    "    smaller = [fruit]\n",
    "    print('#1', Utils.is_list_contained(larger, smaller))\n",
    "\n",
    "    # 2. Test not_existed_in_set -> Passed\n",
    "    ck = [{milk, fruit}, {fruit, video}, {fruit, milk}]\n",
    "    candies = {video, milk}\n",
    "    print('#2', Utils.not_existed_in_set(ck, candies))\n",
    "    \n",
    "    # 3. Test get_difference_of_two_lists -> Passed\n",
    "    subSet = Utils.get_difference_of_two_lists(larger, smaller)\n",
    "    print('#3', ', '.join(map(str, subSet)))\n",
    "      \n",
    "    # 4. Test get_distinct_list_from_w_PFIs -> Passed\n",
    "    wPFIs = [{milk, fruit, video}, {fruit, video}, {fruit, milk}]\n",
    "    subSet = Utils.get_distinct_list_from_w_PFIs(wPFIs)\n",
    "    print('#4', ', '.join(map(str, subSet)))\n",
    "\n",
    "list_helper()\n"
   ]
  },
  {
   "cell_type": "code",
   "execution_count": 2,
   "metadata": {},
   "outputs": [
    {
     "name": "stdout",
     "output_type": "stream",
     "text": [
      "#5 2\n",
      "#6 1.4\n",
      "#7 0.63\n",
      "#8 -0.68\n",
      "#9 2.95\n",
      "#10 2\n",
      "#11 [0.12 0.56 0.32]\n",
      "#12 [0.12 0.56 0.32]\n"
     ]
    }
   ],
   "source": [
    "tom_transaction = Transaction({milk: 0.4, fruit: 1.0, video: 0.3})\n",
    "lucy_transaction = Transaction({milk: 1.0, fruit: 0.8})\n",
    "US: list[Transaction] = [tom_transaction, lucy_transaction]\n",
    "\n",
    "item_set: set[Item] = {milk}\n",
    "US: list[Transaction] = [tom_transaction, lucy_transaction]\n",
    "def calculator():\n",
    "    #Test get_support -> Passed\n",
    "    item_set: set[Item] = {milk}\n",
    "    result = Utils.get_support(US, item_set)\n",
    "    print('#5', result)\n",
    "    \n",
    "    #Test get_expected_support -> Passed\n",
    "    item_set: set[Item] = {milk}\n",
    "    result = Utils.get_expected_support(US, item_set)\n",
    "    print('#6', result)\n",
    "    \n",
    "    #Test get_avg_weight -> Passed\n",
    "    item_set: set[Item] = {milk, fruit, video}\n",
    "    result = Utils.get_avg_weight(item_set)\n",
    "    print('#7', result)\n",
    "    \n",
    "     #Test get_lower_bound -> Passed\n",
    "    floats = [2, 2.5, 3]\n",
    "    print('#8', Utils.get_lower_bound(floats[0], floats[1], floats[2]))\n",
    "\n",
    "    #Test get_upper_bound -> Passed\n",
    "    print('#9', Utils.get_upper_bound(floats[0], floats[1], floats[2]))\n",
    "    \n",
    "    #Test get_probabilistic_support -> Passed\n",
    "    floats = [0.1, 0.15, 0.2, 0.15, 0.12, 0.18, 0.06, 0.04]\n",
    "    mp = 0.3\n",
    "    w = 0.5\n",
    "    result = Utils.get_probabilistic_support(floats, mp, w)\n",
    "    print('#10', result)\n",
    "    \n",
    "    item_set: set[Item] = {fruit, milk}\n",
    "    #Test dynamic_programming -> \n",
    "    print('#11', Utils.dynamic_programming(US, item_set))\n",
    "    #Test dynamic_programming -> \n",
    "    print('#12', Utils.divide_and_conquer(US, item_set))\n",
    "    \n",
    "    \n",
    "calculator()"
   ]
  },
  {
   "cell_type": "code",
   "execution_count": 6,
   "metadata": {},
   "outputs": [
    {
     "name": "stdout",
     "output_type": "stream",
     "text": [
      "Fruit\n"
     ]
    }
   ],
   "source": [
    "milk = Item(\"Milk\", 0.4)\n",
    "fruit = Item(\"Fruit\", 0.9)\n",
    "video = Item(\"Video\", 0.6)\n",
    "\n",
    "tom_transaction = Transaction({milk: 0.4, fruit: 1.0, video: 0.3})\n",
    "lucy_transaction = Transaction({milk: 1.0, fruit: 0.8})\n",
    "UD: list[Transaction] = [tom_transaction, lucy_transaction]\n",
    "\n",
    "item_set: set[Item] = {milk, fruit}\n",
    "apriori = wPFIApriori(UD, item_set, 2, 0.2, 0.5)\n",
    "\n",
    "size_one_wpfi = apriori.find_size_one_wPFI()\n",
    "for subSet in size_one_wpfi:\n",
    "  print(', '.join(map(str, subSet)))"
   ]
  }
 ],
 "metadata": {
  "kernelspec": {
   "display_name": "venv",
   "language": "python",
   "name": "python3"
  },
  "language_info": {
   "codemirror_mode": {
    "name": "ipython",
    "version": 3
   },
   "file_extension": ".py",
   "mimetype": "text/x-python",
   "name": "python",
   "nbconvert_exporter": "python",
   "pygments_lexer": "ipython3",
   "version": "3.12.4"
  }
 },
 "nbformat": 4,
 "nbformat_minor": 2
}
