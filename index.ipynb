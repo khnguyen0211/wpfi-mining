{
 "cells": [
  {
   "cell_type": "code",
   "execution_count": 124,
   "metadata": {},
   "outputs": [],
   "source": [
    "from models.item import Item\n",
    "from models.transaction import Transaction\n",
    "from models.node import Node"
   ]
  },
  {
   "cell_type": "code",
   "execution_count": 125,
   "metadata": {},
   "outputs": [
    {
     "name": "stdout",
     "output_type": "stream",
     "text": [
      "Video\n"
     ]
    }
   ],
   "source": [
    "milk = Item(\"Milk\", 0.4)\n",
    "fruit = Item(\"Fruit\", 0.9)\n",
    "video = Item(\"Video\", 0.6)\n",
    "\n",
    "tom_transaction = Transaction({milk: 0.4, fruit: 1.0, video: 0.3})\n",
    "lucy_transaction = Transaction({milk: 1.0, fruit: 0.8})\n",
    "\n",
    "print(video)\n"
   ]
  },
  {
   "cell_type": "code",
   "execution_count": 126,
   "metadata": {},
   "outputs": [
    {
     "name": "stdout",
     "output_type": "stream",
     "text": [
      "Node(item_set={<models.item.Item object at 0x000001CE0B80F3B0>, <models.item.Item object at 0x000001CE0BA6C740>}, sup=2.0, e_sup=1.5, p_sup=0.8, lb=0.3, ub=0.9, avg_weight=0.75, iswPFI=False)\n"
     ]
    }
   ],
   "source": [
    "item1 = Item(\"Milk\", 1.0)\n",
    "item2 = Item(\"Bread\", 0.5)\n",
    "\n",
    "# Tạo một tập hợp các đối tượng Item\n",
    "item_set = {item1, item2}\n",
    "\n",
    "# Tạo một đối tượng Node\n",
    "node = Node(\n",
    "    item_set=item_set,\n",
    "    sup=2.0,\n",
    "    e_sup=1.5,\n",
    "    p_sup=0.8,\n",
    "    lb=0.3,\n",
    "    ub=0.9,\n",
    "    parent=None,\n",
    "    children=[],\n",
    "    avg_weight=0.75\n",
    ")\n",
    "\n",
    "# In ra đối tượng Node\n",
    "print(node)"
   ]
  }
 ],
 "metadata": {
  "kernelspec": {
   "display_name": "venv",
   "language": "python",
   "name": "python3"
  },
  "language_info": {
   "codemirror_mode": {
    "name": "ipython",
    "version": 3
   },
   "file_extension": ".py",
   "mimetype": "text/x-python",
   "name": "python",
   "nbconvert_exporter": "python",
   "pygments_lexer": "ipython3",
   "version": "3.12.4"
  }
 },
 "nbformat": 4,
 "nbformat_minor": 2
}
