{
 "cells": [
  {
   "cell_type": "code",
   "execution_count": 1,
   "metadata": {},
   "outputs": [
    {
     "name": "stdout",
     "output_type": "stream",
     "text": [
      "#1 True\n",
      "#2 True\n",
      "#3 Milk, Video\n",
      "#4 Milk, Video, Fruit\n"
     ]
    }
   ],
   "source": [
    "\n",
    "from models.item import Item\n",
    "from models.transaction import Transaction\n",
    "from models.dataset import Dataset\n",
    "\n",
    "from utils.utils import Utils\n",
    "from algorithms.wpfiApriori  import wPFIApriori\n",
    "milk = Item(\"Milk\", 0.4)\n",
    "fruit = Item(\"Fruit\", 0.9)\n",
    "video = Item(\"Video\", 0.6)\n",
    "\n",
    "\n",
    "def list_helper():\n",
    "    # 1. Test is_list_contained -> Passed\n",
    "    larger = [milk, fruit, video]\n",
    "    smaller = [fruit]\n",
    "    print('#1', Utils.is_list_contained(larger, smaller))\n",
    "\n",
    "    # 2. Test not_existed_in_set -> Passed\n",
    "    ck = [{milk, fruit}, {fruit, video}, {fruit, milk}]\n",
    "    candies = {video, milk}\n",
    "    print('#2', Utils.not_existed_in_set(ck, candies))\n",
    "    \n",
    "    # 3. Test get_difference_of_two_lists -> Passed\n",
    "    subSet = Utils.get_difference_of_two_lists(larger, smaller)\n",
    "    print('#3', ', '.join(map(str, subSet)))\n",
    "      \n",
    "    # 4. Test get_distinct_list_from_w_PFIs -> Passed\n",
    "    wPFIs = [{milk, fruit, video}, {fruit, video}, {fruit, milk}]\n",
    "    subSet = Utils.get_distinct_list_from_w_PFIs(wPFIs)\n",
    "    print('#4', ', '.join(map(str, subSet)))\n",
    "\n",
    "list_helper()\n"
   ]
  },
  {
   "cell_type": "code",
   "execution_count": 2,
   "metadata": {},
   "outputs": [
    {
     "name": "stdout",
     "output_type": "stream",
     "text": [
      "#5 2\n",
      "#6 1.4\n",
      "#7 0.63\n",
      "#8 -0.68\n",
      "#9 2.95\n",
      "#10 2\n",
      "#11 [0.12 0.56 0.32]\n",
      "#12 [0.12 0.56 0.32]\n"
     ]
    }
   ],
   "source": [
    "tom_transaction = Transaction({milk: 0.4, fruit: 1.0, video: 0.3})\n",
    "lucy_transaction = Transaction({milk: 1.0, fruit: 0.8})\n",
    "US: list[Transaction] = [tom_transaction, lucy_transaction]\n",
    "\n",
    "item_set: set[Item] = {milk}\n",
    "US: list[Transaction] = [tom_transaction, lucy_transaction]\n",
    "def calculator():\n",
    "    #Test get_support -> Passed\n",
    "    item_set: set[Item] = {milk}\n",
    "    result = Utils.get_support(US, item_set)\n",
    "    print('#5', result)\n",
    "    \n",
    "    #Test get_expected_support -> Passed\n",
    "    item_set: set[Item] = {milk}\n",
    "    result = Utils.get_expected_support(US, item_set)\n",
    "    print('#6', result)\n",
    "    \n",
    "    #Test get_avg_weight -> Passed\n",
    "    item_set: set[Item] = {milk, fruit, video}\n",
    "    result = Utils.get_avg_weight(item_set)\n",
    "    print('#7', result)\n",
    "    \n",
    "     #Test get_lower_bound -> Passed\n",
    "    floats = [2, 2.5, 3]\n",
    "    print('#8', Utils.get_lower_bound(floats[0], floats[1], floats[2]))\n",
    "\n",
    "    #Test get_upper_bound -> Passed\n",
    "    print('#9', Utils.get_upper_bound(floats[0], floats[1], floats[2]))\n",
    "    \n",
    "    #Test get_probabilistic_support -> Passed\n",
    "    floats = [0.1, 0.15, 0.2, 0.15, 0.12, 0.18, 0.06, 0.04]\n",
    "    mp = 0.3\n",
    "    w = 0.5\n",
    "    result = Utils.get_probabilistic_support(floats, mp, w)\n",
    "    print('#10', result)\n",
    "    \n",
    "    item_set: set[Item] = {fruit, milk}\n",
    "    #Test dynamic_programming -> \n",
    "    print('#11', Utils.dynamic_programming(US, item_set))\n",
    "    #Test dynamic_programming -> \n",
    "    print('#12', Utils.divide_and_conquer(US, item_set))\n",
    "    \n",
    "    \n",
    "calculator()"
   ]
  },
  {
   "cell_type": "code",
   "execution_count": 3,
   "metadata": {},
   "outputs": [
    {
     "name": "stdout",
     "output_type": "stream",
     "text": [
      "[[{Fruit}], [{Fruit, Milk}]]\n"
     ]
    }
   ],
   "source": [
    "milk = Item(\"Milk\", 0.4)\n",
    "fruit = Item(\"Fruit\", 0.9)\n",
    "video = Item(\"Video\", 0.6)\n",
    "\n",
    "tom_transaction = Transaction({milk: 0.4, fruit: 1.0, video: 0.3})\n",
    "lucy_transaction = Transaction({milk: 1.0, fruit: 0.8})\n",
    "UD: list[Transaction] = [tom_transaction, lucy_transaction]\n",
    "\n",
    "item_set: set[Item] = {milk, fruit}\n",
    "apriori = wPFIApriori(UD, item_set, 2, 0.2, 0.5)\n",
    "\n",
    "size_one_wpfi = apriori.find_size_one_wPFI()\n",
    "result = apriori.wPFI_apriori_mining()\n",
    "print(result)\n"
   ]
  },
  {
   "cell_type": "code",
   "execution_count": 4,
   "metadata": {},
   "outputs": [],
   "source": [
    "dataset = Dataset('./data/connects.txt', 2000)"
   ]
  },
  {
   "cell_type": "code",
   "execution_count": 5,
   "metadata": {},
   "outputs": [
    {
     "ename": "KeyboardInterrupt",
     "evalue": "",
     "output_type": "error",
     "traceback": [
      "\u001b[1;31m---------------------------------------------------------------------------\u001b[0m",
      "\u001b[1;31mKeyboardInterrupt\u001b[0m                         Traceback (most recent call last)",
      "Cell \u001b[1;32mIn[5], line 10\u001b[0m\n\u001b[0;32m      1\u001b[0m apriori \u001b[38;5;241m=\u001b[39m wPFIApriori(\n\u001b[0;32m      2\u001b[0m     dataset\u001b[38;5;241m.\u001b[39mget_dataset(),\n\u001b[0;32m      3\u001b[0m     dataset\u001b[38;5;241m.\u001b[39mget_items(),\n\u001b[1;32m   (...)\u001b[0m\n\u001b[0;32m      6\u001b[0m     \u001b[38;5;241m0.6\u001b[39m,\n\u001b[0;32m      7\u001b[0m )\n\u001b[0;32m      9\u001b[0m size_one_wpfi \u001b[38;5;241m=\u001b[39m apriori\u001b[38;5;241m.\u001b[39mfind_size_one_wPFI()\n\u001b[1;32m---> 10\u001b[0m result \u001b[38;5;241m=\u001b[39m \u001b[43mapriori\u001b[49m\u001b[38;5;241;43m.\u001b[39;49m\u001b[43mwPFI_apriori_mining\u001b[49m\u001b[43m(\u001b[49m\u001b[43m)\u001b[49m\n\u001b[0;32m     11\u001b[0m counter \u001b[38;5;241m=\u001b[39m \u001b[38;5;241m0\u001b[39m\n\u001b[0;32m     12\u001b[0m \u001b[38;5;28;01mfor\u001b[39;00m x \u001b[38;5;129;01min\u001b[39;00m result:\n",
      "File \u001b[1;32md:\\wpfis\\algorithms\\wpfiApriori.py:25\u001b[0m, in \u001b[0;36mwPFIApriori.wPFI_apriori_mining\u001b[1;34m(self)\u001b[0m\n\u001b[0;32m     23\u001b[0m \u001b[38;5;28;01mwhile\u001b[39;00m w_PFI_final[k \u001b[38;5;241m-\u001b[39m \u001b[38;5;241m1\u001b[39m]:\n\u001b[0;32m     24\u001b[0m     Ck \u001b[38;5;241m=\u001b[39m \u001b[38;5;28mself\u001b[39m\u001b[38;5;241m.\u001b[39mgenerate_wpfi_candidates(w_PFI_final[k \u001b[38;5;241m-\u001b[39m \u001b[38;5;241m1\u001b[39m])\n\u001b[1;32m---> 25\u001b[0m     w_PFI_k \u001b[38;5;241m=\u001b[39m \u001b[38;5;28;43mself\u001b[39;49m\u001b[38;5;241;43m.\u001b[39;49m\u001b[43mfind_size_k_wpfi\u001b[49m\u001b[43m(\u001b[49m\u001b[43mCk\u001b[49m\u001b[43m)\u001b[49m\n\u001b[0;32m     26\u001b[0m     w_PFI_final\u001b[38;5;241m.\u001b[39mappend(w_PFI_k)\n\u001b[0;32m     27\u001b[0m     k \u001b[38;5;241m+\u001b[39m\u001b[38;5;241m=\u001b[39m \u001b[38;5;241m1\u001b[39m\n",
      "File \u001b[1;32md:\\wpfis\\algorithms\\wpfiApriori.py:98\u001b[0m, in \u001b[0;36mwPFIApriori.find_size_k_wpfi\u001b[1;34m(self, candidates)\u001b[0m\n\u001b[0;32m     97\u001b[0m \u001b[38;5;28;01mdef\u001b[39;00m \u001b[38;5;21mfind_size_k_wpfi\u001b[39m(\u001b[38;5;28mself\u001b[39m, candidates: \u001b[38;5;28mlist\u001b[39m[\u001b[38;5;28mset\u001b[39m[E]]):\n\u001b[1;32m---> 98\u001b[0m     \u001b[38;5;28;01mreturn\u001b[39;00m [candidate \u001b[38;5;28;01mfor\u001b[39;00m candidate \u001b[38;5;129;01min\u001b[39;00m candidates \u001b[38;5;28;01mif\u001b[39;00m \u001b[38;5;28;43mself\u001b[39;49m\u001b[38;5;241;43m.\u001b[39;49m\u001b[43mis_wpfi\u001b[49m\u001b[43m(\u001b[49m\u001b[43mcandidate\u001b[49m\u001b[43m)\u001b[49m]\n",
      "File \u001b[1;32md:\\wpfis\\algorithms\\wpfiApriori.py:45\u001b[0m, in \u001b[0;36mwPFIApriori.is_wpfi\u001b[1;34m(self, item_set)\u001b[0m\n\u001b[0;32m     43\u001b[0m \u001b[38;5;28;01mdef\u001b[39;00m \u001b[38;5;21mis_wpfi\u001b[39m(\u001b[38;5;28mself\u001b[39m, item_set: \u001b[38;5;28mset\u001b[39m[E]) \u001b[38;5;241m-\u001b[39m\u001b[38;5;241m>\u001b[39m \u001b[38;5;28mbool\u001b[39m:\n\u001b[0;32m     44\u001b[0m     support \u001b[38;5;241m=\u001b[39m Utils\u001b[38;5;241m.\u001b[39mget_support(\u001b[38;5;28mself\u001b[39m\u001b[38;5;241m.\u001b[39mUD, item_set)\n\u001b[1;32m---> 45\u001b[0m     expected_support \u001b[38;5;241m=\u001b[39m \u001b[43mUtils\u001b[49m\u001b[38;5;241;43m.\u001b[39;49m\u001b[43mget_expected_support\u001b[49m\u001b[43m(\u001b[49m\u001b[38;5;28;43mself\u001b[39;49m\u001b[38;5;241;43m.\u001b[39;49m\u001b[43mUD\u001b[49m\u001b[43m,\u001b[49m\u001b[43m \u001b[49m\u001b[43mitem_set\u001b[49m\u001b[43m)\u001b[49m\n\u001b[0;32m     46\u001b[0m     avg_weight \u001b[38;5;241m=\u001b[39m Utils\u001b[38;5;241m.\u001b[39mget_avg_weight(item_set)\n\u001b[0;32m     47\u001b[0m     lower_bound \u001b[38;5;241m=\u001b[39m \u001b[38;5;28mmax\u001b[39m(\n\u001b[0;32m     48\u001b[0m         Utils\u001b[38;5;241m.\u001b[39mget_lower_bound(expected_support, \u001b[38;5;28mself\u001b[39m\u001b[38;5;241m.\u001b[39mt, avg_weight), \u001b[38;5;241m0\u001b[39m\n\u001b[0;32m     49\u001b[0m     )\n",
      "File \u001b[1;32md:\\wpfis\\utils\\utils.py:109\u001b[0m, in \u001b[0;36mUtils.get_expected_support\u001b[1;34m(UD, item_set)\u001b[0m\n\u001b[0;32m    107\u001b[0m rs \u001b[38;5;241m=\u001b[39m \u001b[38;5;241m0.0\u001b[39m\n\u001b[0;32m    108\u001b[0m \u001b[38;5;28;01mfor\u001b[39;00m trans \u001b[38;5;129;01min\u001b[39;00m UD:\n\u001b[1;32m--> 109\u001b[0m     \u001b[38;5;28;01mif\u001b[39;00m \u001b[38;5;28;43mset\u001b[39;49m\u001b[43m(\u001b[49m\u001b[43mtrans\u001b[49m\u001b[38;5;241;43m.\u001b[39;49m\u001b[43mget_items\u001b[49m\u001b[43m(\u001b[49m\u001b[43m)\u001b[49m\u001b[38;5;241;43m.\u001b[39;49m\u001b[43mkeys\u001b[49m\u001b[43m(\u001b[49m\u001b[43m)\u001b[49m\u001b[43m)\u001b[49m\u001b[38;5;241;43m.\u001b[39;49m\u001b[43missuperset\u001b[49m\u001b[43m(\u001b[49m\u001b[43mitem_set\u001b[49m\u001b[43m)\u001b[49m:\n\u001b[0;32m    110\u001b[0m         rs \u001b[38;5;241m+\u001b[39m\u001b[38;5;241m=\u001b[39m trans\u001b[38;5;241m.\u001b[39mget_probability_of_item_set(item_set)\n\u001b[0;32m    111\u001b[0m \u001b[38;5;28;01mreturn\u001b[39;00m Utils\u001b[38;5;241m.\u001b[39mformat_double(rs)\n",
      "\u001b[1;31mKeyboardInterrupt\u001b[0m: "
     ]
    }
   ],
   "source": [
    "apriori = wPFIApriori(\n",
    "    dataset.get_dataset(),\n",
    "    dataset.get_items(),\n",
    "    0.2 * len(dataset.get_dataset()),\n",
    "    0.6,\n",
    "    0.6,\n",
    ")\n",
    "\n",
    "size_one_wpfi = apriori.find_size_one_wPFI()\n",
    "result = apriori.wPFI_apriori_mining()\n",
    "counter = 0\n",
    "for x in result:\n",
    "  counter += len(x)\n",
    "print(counter)"
   ]
  },
  {
   "cell_type": "code",
   "execution_count": null,
   "metadata": {},
   "outputs": [
    {
     "name": "stdout",
     "output_type": "stream",
     "text": [
      "[{B}, {D}, {A}, {E}]\n",
      "[{B, D}, {E, D}, {A, E}]\n"
     ]
    }
   ],
   "source": [
    "a = Item(\"A\", 0.5)\n",
    "b = Item(\"B\", 0.45)\n",
    "c = Item(\"C\", 0.4)\n",
    "d = Item(\"D\", 0.55)\n",
    "e = Item(\"E\", 0.6)\n",
    "UD = []\n",
    "item_set = {a, b, c, d, e}\n",
    "\n",
    "map1 = {\n",
    "    a: 0.8,\n",
    "    b: 0.85,\n",
    "    c: 0.75,\n",
    "    d: 0.88,\n",
    "    e: 0.45\n",
    "}\n",
    "trans1 = Transaction(map1)\n",
    "\n",
    "map2 = {c: 0.6}\n",
    "trans2 = Transaction(map2)\n",
    "\n",
    "map3 = {b: 0.6, d: 0.8}\n",
    "trans3 = Transaction(map3)\n",
    "\n",
    "map4 = {a: 0.6, e: 0.8}\n",
    "trans4 = Transaction(map4)\n",
    "\n",
    "map5 = {\n",
    "    a: 0.8,\n",
    "    b: 0.9,\n",
    "    c: 0.5,\n",
    "    d: 0.6,\n",
    "    e: 0.7\n",
    "}\n",
    "trans5 = Transaction(map5)\n",
    "\n",
    "map6 = {b: 0.8, d: 0.8, e: 0.7}\n",
    "trans6 = Transaction(map6)\n",
    "\n",
    "map7 = {b: 0.9}\n",
    "trans7 = Transaction(map7)\n",
    "\n",
    "map8 = {d: 0.3}\n",
    "trans8 = Transaction(map8)\n",
    "\n",
    "map9 = {\n",
    "    a: 0.8,\n",
    "    b: 0.6,\n",
    "    d: 0.9,\n",
    "    e: 0.9\n",
    "}\n",
    "trans9 = Transaction(map9)\n",
    "\n",
    "UD.extend([ trans1, trans2, trans3, trans4, trans5, trans6, trans7, trans8, trans9])\n",
    "\n",
    "apriori = wPFIApriori(\n",
    "    dataset.get_dataset(),\n",
    "    dataset.get_items(),\n",
    "    0.2 * len(dataset.get_dataset()),\n",
    "    0.6,\n",
    "    0.6,\n",
    ")\n",
    "\n",
    "apriori = wPFIApriori(\n",
    "    UD,\n",
    "    item_set,\n",
    "    2,\n",
    "    0.4,\n",
    "    0.5\n",
    ")\n",
    "result = apriori.wPFI_apriori_mining()\n",
    "counter = 0\n",
    "for x in result:\n",
    "    print(x)"
   ]
  }
 ],
 "metadata": {
  "kernelspec": {
   "display_name": "venv",
   "language": "python",
   "name": "python3"
  },
  "language_info": {
   "codemirror_mode": {
    "name": "ipython",
    "version": 3
   },
   "file_extension": ".py",
   "mimetype": "text/x-python",
   "name": "python",
   "nbconvert_exporter": "python",
   "pygments_lexer": "ipython3",
   "version": "3.12.4"
  }
 },
 "nbformat": 4,
 "nbformat_minor": 2
}
